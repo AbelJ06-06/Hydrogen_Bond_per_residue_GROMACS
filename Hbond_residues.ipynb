{
 "cells": [
  {
   "cell_type": "code",
   "execution_count": 30,
   "metadata": {},
   "outputs": [],
   "source": [
    "F = open('md_200.gro', 'r')\n",
    "A = open('XYZ.txt', 'w')\n",
    "atoms = [3024,3077,3110,3205,3515,4617,4681,5475,5491,6880,6929,6963,9233,9235,9231,9229,3099,3100,3102,3103,4616,4669,4677,7134,7144,7173,7174,7203,7596,3144,6885,6922,6936,7166]\n",
    "\n",
    "with open('md_200.gro', 'r') as F, open('XYZ.txt', 'w') as A:\n",
    "    for line in F:\n",
    "        # Split the line into columns\n",
    "        columns = line.split()\n",
    "        \n",
    "        # Check if the line represents an atom and its index is in the atoms list\n",
    "        if len(columns) >= 3 and columns[2].isdigit():\n",
    "            atom_index = int(columns[2])\n",
    "            if atom_index in atoms:\n",
    "                # Write the line to the output file\n",
    "                \n",
    "                  A.write(columns[0][:-3] + ' ')\n"
   ]
  },
  {
   "cell_type": "code",
   "execution_count": 16,
   "metadata": {},
   "outputs": [],
   "source": []
  },
  {
   "cell_type": "code",
   "execution_count": null,
   "metadata": {},
   "outputs": [],
   "source": []
  }
 ],
 "metadata": {
  "kernelspec": {
   "display_name": "Python 3",
   "language": "python",
   "name": "python3"
  },
  "language_info": {
   "codemirror_mode": {
    "name": "ipython",
    "version": 3
   },
   "file_extension": ".py",
   "mimetype": "text/x-python",
   "name": "python",
   "nbconvert_exporter": "python",
   "pygments_lexer": "ipython3",
   "version": "3.8.10"
  }
 },
 "nbformat": 4,
 "nbformat_minor": 4
}
