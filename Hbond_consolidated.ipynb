{
 "cells": [
  {
   "cell_type": "code",
   "execution_count": 43,
   "metadata": {
    "scrolled": true
   },
   "outputs": [
    {
     "name": "stdout",
     "output_type": "stream",
     "text": [
      "Data merged and saved to /media/amjesh/sideB/Haritha/7yim_1_Monolinolenin-gro/xvg/merged_hbond_data_1.xlsx\n"
     ]
    }
   ],
   "source": [
    "import pandas as pd\n",
    "import os\n",
    "\n",
    "# Directory containing the files\n",
    "directory = '/media/amjesh/sideB/Haritha/7yim_1_Monolinolenin-gro/xvg'\n",
    "\n",
    "# Initialize an empty DataFrame\n",
    "merged_data = pd.DataFrame()\n",
    "\n",
    "# Iterate over each file in the directory\n",
    "for filename in os.listdir(directory):\n",
    "    if filename.endswith('.xvg'):  # Check if the file is an XVG file\n",
    "        # Extract residue name from the filename\n",
    "        residue_name = filename.split('_')[1].split('.')[0]  # Assuming filename format is 'hb_<residue_name>.xvg'\n",
    "\n",
    "        # Read the data from the file\n",
    "        file_path = os.path.join(directory, filename)\n",
    "        data = pd.read_csv(file_path, skiprows=25, delim_whitespace=True, usecols=[0, 1], names=['Time (ns)', f'Hydrogen Bonds - {residue_name}'])\n",
    "\n",
    "        # Convert non-zero values to 1\n",
    "        data[f'Hydrogen Bonds - {residue_name}'] = (data[f'Hydrogen Bonds - {residue_name}'] != 0).astype(int)\n",
    "        \n",
    "        # Merge data into the main DataFrame\n",
    "        if merged_data.empty:\n",
    "            merged_data = data\n",
    "        else:\n",
    "            merged_data = pd.merge(merged_data, data, on='Time (ns)', how='outer')\n",
    "\n",
    "# Set 'Time (ns)' as the index\n",
    "merged_data.set_index('Time (ns)', inplace=True)\n",
    "\n",
    "# Write the merged data to an Excel file\n",
    "excel_output_path = '/media/amjesh/sideB/Haritha/7yim_1_Monolinolenin-gro/xvg/merged_hbond_data_1.xlsx'\n",
    "merged_data.to_excel(excel_output_path)\n",
    "\n",
    "print(f\"Data merged and saved to {excel_output_path}\")\n"
   ]
  }
 ],
 "metadata": {
  "kernelspec": {
   "display_name": "Python 3",
   "language": "python",
   "name": "python3"
  },
  "language_info": {
   "codemirror_mode": {
    "name": "ipython",
    "version": 3
   },
   "file_extension": ".py",
   "mimetype": "text/x-python",
   "name": "python",
   "nbconvert_exporter": "python",
   "pygments_lexer": "ipython3",
   "version": "3.8.10"
  }
 },
 "nbformat": 4,
 "nbformat_minor": 4
}
